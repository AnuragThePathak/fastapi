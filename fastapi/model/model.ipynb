{
 "cells": [
  {
   "cell_type": "code",
   "execution_count": 8,
   "metadata": {},
   "outputs": [],
   "source": [
    "import pandas as pd\n",
    "from sklearn.ensemble import AdaBoostClassifier\n",
    "from sklearn.ensemble import RandomForestClassifier\n",
    "from sklearn.linear_model import LogisticRegression\n",
    "from sklearn.model_selection import train_test_split\n",
    "from sklearn.metrics import accuracy_score\n",
    "from sklearn.metrics import confusion_matrix, precision_score, recall_score, f1_score\n",
    "from sklearn.preprocessing import StandardScaler\n",
    "\n",
    "# Load the preprocessed CSV file\n",
    "df = pd.read_csv('dataset.csv')\n",
    "\n",
    "# Separate features (X) and target variable (y)\n",
    "X = df.drop(['num', 'dataset', 'id'], axis=1)\n",
    "y = df['num']"
   ]
  },
  {
   "cell_type": "code",
   "execution_count": 9,
   "metadata": {},
   "outputs": [],
   "source": [
    "# Split the data into training and testing sets\n",
    "X_train, X_test, y_train, y_test = train_test_split(X, y, test_size=0.2, random_state=42)\n",
    "\n",
    "# Standardize the features using StandardScaler\n",
    "scaler = StandardScaler()\n",
    "X_train_scaled = scaler.fit_transform(X_train)\n",
    "X_test_scaled = scaler.transform(X_test)"
   ]
  },
  {
   "cell_type": "code",
   "execution_count": 20,
   "metadata": {},
   "outputs": [],
   "source": [
    "# Initialize base models\n",
    "rf_model = RandomForestClassifier()\n",
    "lr_model = LogisticRegression()\n",
    "\n",
    "# Train base models\n",
    "rf_model.fit(X_train_scaled, y_train)\n",
    "lr_model.fit(X_train_scaled, y_train)\n",
    "\n",
    "# Make predictions of base models\n",
    "rf_predictions = rf_model.predict(X_train_scaled)\n",
    "lr_predictions = lr_model.predict(X_train_scaled)\n",
    "\n",
    "# Stack predictions of base models\n",
    "stacked_predictions = []\n",
    "for rf_pred, lr_pred in zip(rf_predictions, lr_predictions):\n",
    "    stacked_predictions.append([rf_pred, lr_pred])\n",
    "    \n",
    "# Initialize AdaBoost for stacking\n",
    "adaboost_model = AdaBoostClassifier(algorithm='SAMME')\n",
    "\n",
    "# Train AdaBoost model\n",
    "adaboost_model.fit(stacked_predictions, y_train)\n",
    "\n",
    "# Make predictions on test set\n",
    "rf_test_predictions = rf_model.predict(X_test_scaled)\n",
    "lr_test_predictions = lr_model.predict(X_test_scaled)\n",
    "stacked_test_predictions = []\n",
    "for rf_pred, lr_pred in zip(rf_test_predictions, lr_test_predictions):\n",
    "    stacked_test_predictions.append([rf_pred, lr_pred])\n",
    "    \n",
    "# Make predictions using AdaBoost\n",
    "adaboost_predictions = adaboost_model.predict(stacked_test_predictions)"
   ]
  },
  {
   "cell_type": "code",
   "execution_count": 21,
   "metadata": {},
   "outputs": [
    {
     "name": "stdout",
     "output_type": "stream",
     "text": [
      "Accuracy: 0.7913669064748201\n",
      "False Positive Rate: 0.17142857142857143\n",
      "Precision: 0.8125\n",
      "Recall: 0.7536231884057971\n",
      "Specificity: 0.8285714285714286\n",
      "F1 Score: 0.7819548872180451\n"
     ]
    }
   ],
   "source": [
    "# Evaluate performance\n",
    "accuracy = accuracy_score(y_test, adaboost_predictions)\n",
    "print(\"Accuracy:\", accuracy)\n",
    "\n",
    "conf_matrix = confusion_matrix(y_test, adaboost_predictions)\n",
    "false_positive_rate = conf_matrix[0, 1] / (conf_matrix[0, 0] + conf_matrix[0, 1])\n",
    "\n",
    "print(\"False Positive Rate:\", false_positive_rate)\n",
    "\n",
    "precision = precision_score(y_test, adaboost_predictions)\n",
    "recall = recall_score(y_test, adaboost_predictions)\n",
    "f1 = f1_score(y_test, adaboost_predictions)\n",
    "\n",
    "# Calculate specificity\n",
    "tn, fp, fn, tp = confusion_matrix(y_test, adaboost_predictions).ravel()\n",
    "specificity = tn / (tn + fp)\n",
    "\n",
    "print(\"Precision:\", precision)\n",
    "print(\"Recall:\", recall)\n",
    "print(\"Specificity:\", specificity)\n",
    "print(\"F1 Score:\", f1)"
   ]
  },
  {
   "cell_type": "code",
   "execution_count": 22,
   "metadata": {},
   "outputs": [
    {
     "data": {
      "text/plain": [
       "['adaboost_model.pkl']"
      ]
     },
     "execution_count": 22,
     "metadata": {},
     "output_type": "execute_result"
    }
   ],
   "source": [
    "from joblib import dump\n",
    "dump(scaler, 'scaler.pkl')\n",
    "dump(rf_model, 'rf_model.pkl')\n",
    "dump(lr_model, 'lr_model.pkl')\n",
    "dump(adaboost_model, 'adaboost_model.pkl')"
   ]
  }
 ],
 "metadata": {
  "kernelspec": {
   "display_name": "fastapi",
   "language": "python",
   "name": "python3"
  },
  "language_info": {
   "codemirror_mode": {
    "name": "ipython",
    "version": 3
   },
   "file_extension": ".py",
   "mimetype": "text/x-python",
   "name": "python",
   "nbconvert_exporter": "python",
   "pygments_lexer": "ipython3",
   "version": "3.12.2"
  }
 },
 "nbformat": 4,
 "nbformat_minor": 2
}
