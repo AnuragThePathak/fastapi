{
 "cells": [
  {
   "cell_type": "code",
   "execution_count": 2,
   "metadata": {},
   "outputs": [
    {
     "name": "stderr",
     "output_type": "stream",
     "text": [
      "/var/folders/b7/vn4cwd096k5fh2lq0sfh7flw0000gn/T/ipykernel_18835/2331531050.py:7: FutureWarning: A value is trying to be set on a copy of a DataFrame or Series through chained assignment using an inplace method.\n",
      "The behavior will change in pandas 3.0. This inplace method will never work because the intermediate object on which we are setting values always behaves as a copy.\n",
      "\n",
      "For example, when doing 'df[col].method(value, inplace=True)', try using 'df.method({col: value}, inplace=True)' or df[col] = df[col].method(value) instead, to perform the operation inplace on the original object.\n",
      "\n",
      "\n",
      "  df['trestbps'].fillna(df['trestbps'].mean(), inplace=True)\n",
      "/var/folders/b7/vn4cwd096k5fh2lq0sfh7flw0000gn/T/ipykernel_18835/2331531050.py:9: FutureWarning: A value is trying to be set on a copy of a DataFrame or Series through chained assignment using an inplace method.\n",
      "The behavior will change in pandas 3.0. This inplace method will never work because the intermediate object on which we are setting values always behaves as a copy.\n",
      "\n",
      "For example, when doing 'df[col].method(value, inplace=True)', try using 'df.method({col: value}, inplace=True)' or df[col] = df[col].method(value) instead, to perform the operation inplace on the original object.\n",
      "\n",
      "\n",
      "  df['chol'].fillna(df['chol'].mean(), inplace=True)\n",
      "/var/folders/b7/vn4cwd096k5fh2lq0sfh7flw0000gn/T/ipykernel_18835/2331531050.py:10: FutureWarning: A value is trying to be set on a copy of a DataFrame or Series through chained assignment using an inplace method.\n",
      "The behavior will change in pandas 3.0. This inplace method will never work because the intermediate object on which we are setting values always behaves as a copy.\n",
      "\n",
      "For example, when doing 'df[col].method(value, inplace=True)', try using 'df.method({col: value}, inplace=True)' or df[col] = df[col].method(value) instead, to perform the operation inplace on the original object.\n",
      "\n",
      "\n",
      "  df['fbs'].fillna('N/A', inplace=True)\n",
      "/var/folders/b7/vn4cwd096k5fh2lq0sfh7flw0000gn/T/ipykernel_18835/2331531050.py:11: FutureWarning: A value is trying to be set on a copy of a DataFrame or Series through chained assignment using an inplace method.\n",
      "The behavior will change in pandas 3.0. This inplace method will never work because the intermediate object on which we are setting values always behaves as a copy.\n",
      "\n",
      "For example, when doing 'df[col].method(value, inplace=True)', try using 'df.method({col: value}, inplace=True)' or df[col] = df[col].method(value) instead, to perform the operation inplace on the original object.\n",
      "\n",
      "\n",
      "  df['restecg'].fillna('N/A', inplace=True)\n",
      "/var/folders/b7/vn4cwd096k5fh2lq0sfh7flw0000gn/T/ipykernel_18835/2331531050.py:12: FutureWarning: A value is trying to be set on a copy of a DataFrame or Series through chained assignment using an inplace method.\n",
      "The behavior will change in pandas 3.0. This inplace method will never work because the intermediate object on which we are setting values always behaves as a copy.\n",
      "\n",
      "For example, when doing 'df[col].method(value, inplace=True)', try using 'df.method({col: value}, inplace=True)' or df[col] = df[col].method(value) instead, to perform the operation inplace on the original object.\n",
      "\n",
      "\n",
      "  df['thalch'].fillna(df['thalch'].mean(), inplace=True)\n",
      "/var/folders/b7/vn4cwd096k5fh2lq0sfh7flw0000gn/T/ipykernel_18835/2331531050.py:13: FutureWarning: A value is trying to be set on a copy of a DataFrame or Series through chained assignment using an inplace method.\n",
      "The behavior will change in pandas 3.0. This inplace method will never work because the intermediate object on which we are setting values always behaves as a copy.\n",
      "\n",
      "For example, when doing 'df[col].method(value, inplace=True)', try using 'df.method({col: value}, inplace=True)' or df[col] = df[col].method(value) instead, to perform the operation inplace on the original object.\n",
      "\n",
      "\n",
      "  df['exang'].fillna('N/A', inplace=True)\n",
      "/var/folders/b7/vn4cwd096k5fh2lq0sfh7flw0000gn/T/ipykernel_18835/2331531050.py:14: FutureWarning: A value is trying to be set on a copy of a DataFrame or Series through chained assignment using an inplace method.\n",
      "The behavior will change in pandas 3.0. This inplace method will never work because the intermediate object on which we are setting values always behaves as a copy.\n",
      "\n",
      "For example, when doing 'df[col].method(value, inplace=True)', try using 'df.method({col: value}, inplace=True)' or df[col] = df[col].method(value) instead, to perform the operation inplace on the original object.\n",
      "\n",
      "\n",
      "  df['oldpeak'].fillna(df['oldpeak'].mean(), inplace=True)\n",
      "/var/folders/b7/vn4cwd096k5fh2lq0sfh7flw0000gn/T/ipykernel_18835/2331531050.py:15: FutureWarning: A value is trying to be set on a copy of a DataFrame or Series through chained assignment using an inplace method.\n",
      "The behavior will change in pandas 3.0. This inplace method will never work because the intermediate object on which we are setting values always behaves as a copy.\n",
      "\n",
      "For example, when doing 'df[col].method(value, inplace=True)', try using 'df.method({col: value}, inplace=True)' or df[col] = df[col].method(value) instead, to perform the operation inplace on the original object.\n",
      "\n",
      "\n",
      "  df['slope'].fillna('N/A', inplace=True)\n"
     ]
    }
   ],
   "source": [
    "import pandas as pd\n",
    "import numpy as np\n",
    "\n",
    "df = pd.read_csv('heart_disease_uci.csv')\n",
    "\n",
    "# Replace missing values\n",
    "df['trestbps'].fillna(df['trestbps'].mean(), inplace=True)\n",
    "# df['chol'].replace(0, pd.NA, inplace=True)\n",
    "df['chol'].fillna(df['chol'].mean(), inplace=True)\n",
    "df['fbs'].fillna('N/A', inplace=True)\n",
    "df['restecg'].fillna('N/A', inplace=True)\n",
    "df['thalch'].fillna(df['thalch'].mean(), inplace=True)\n",
    "df['exang'].fillna('N/A', inplace=True)\n",
    "df['oldpeak'].fillna(df['oldpeak'].mean(), inplace=True)\n",
    "df['slope'].fillna('N/A', inplace=True)\n",
    "df['num'] = (df['num'] > 0).astype(int)\n",
    "\n",
    "# Drop 'ca' and 'thal' columns\n",
    "df.drop(['ca', 'thal'], axis=1, inplace=True)\n",
    "\n",
    "# Drop rows where 'chol' value is 0\n",
    "df = df[df['chol'] != 0]\n",
    "\n",
    "# Save the processed DataFrame back to a CSV file\n",
    "df.to_csv('preprocessed.csv', index=False)"
   ]
  },
  {
   "cell_type": "code",
   "execution_count": 3,
   "metadata": {},
   "outputs": [],
   "source": [
    "from sklearn.model_selection import train_test_split\n",
    "from sklearn.linear_model import LinearRegression, LogisticRegression\n",
    "from sklearn.metrics import mean_squared_error, r2_score, accuracy_score, precision_score, recall_score, confusion_matrix, f1_score\n",
    "from sklearn.preprocessing import StandardScaler, OneHotEncoder\n",
    "from sklearn.compose import ColumnTransformer\n",
    "import numpy as np\n",
    "\n",
    "# Load the preprocessed CSV file\n",
    "df = pd.read_csv('preprocessed.csv')\n",
    "\n",
    "# Separate features (X) and target variable (y)\n",
    "X = df.drop('num', axis=1)\n",
    "y = df['num']"
   ]
  },
  {
   "cell_type": "code",
   "execution_count": 4,
   "metadata": {},
   "outputs": [],
   "source": [
    "# Identify categorical columns\n",
    "categorical_columns = ['sex', 'cp','dataset','fbs','restecg','exang','slope']\n",
    "\n",
    "# Create a ColumnTransformer to apply one-hot encoding to categorical columns\n",
    "preprocessor = ColumnTransformer(\n",
    "    transformers=[\n",
    "        ('cat', OneHotEncoder(), categorical_columns)\n",
    "    ],\n",
    "    remainder='passthrough'\n",
    ")"
   ]
  },
  {
   "cell_type": "code",
   "execution_count": 6,
   "metadata": {},
   "outputs": [],
   "source": [
    "# Split the data into training and testing sets\n",
    "X_train, X_test, y_train, y_test = train_test_split(X, y, test_size=0.2, random_state=42)\n",
    "\n",
    "# Preprocess the data (one-hot encoding)\n",
    "X_train_transformed = preprocessor.fit_transform(X_train)\n",
    "X_test_transformed = preprocessor.transform(X_test)\n",
    "\n",
    "# Standardize the features using StandardScaler\n",
    "scaler = StandardScaler()\n",
    "X_train_scaled = scaler.fit_transform(X_train_transformed)\n",
    "X_test_scaled = scaler.transform(X_test_transformed)"
   ]
  },
  {
   "cell_type": "code",
   "execution_count": 8,
   "metadata": {},
   "outputs": [
    {
     "name": "stdout",
     "output_type": "stream",
     "text": [
      "[ 1.72819752 -1.72819752 -0.96709621 -0.56061191  1.86982368 -0.24167557\n",
      " -0.81877412  1.22988009 -0.50104493  0.45615875 -0.43186565 -0.12361285\n",
      " -0.55288051 -1.19619995  2.16684981 -0.04092728 -1.20449976  1.36427417\n",
      " -0.24933304 -0.26049404  1.33954937 -0.52963565 -0.74923808  0.68831955\n",
      "  0.12060484 -0.15090457  0.8326323  -1.6938712  -0.83143989]\n"
     ]
    }
   ],
   "source": [
    "print(X_train_scaled[0])"
   ]
  },
  {
   "cell_type": "code",
   "execution_count": 6,
   "metadata": {},
   "outputs": [],
   "source": [
    "model = LogisticRegression(random_state=30)\n",
    "\n",
    "# Train the model\n",
    "model.fit(X_train_scaled, y_train)\n",
    "\n",
    "# Make predictions on the test set\n",
    "y_pred = model.predict(X_test_scaled)\n",
    "y_pred = np.round(y_pred)"
   ]
  },
  {
   "cell_type": "code",
   "execution_count": 7,
   "metadata": {},
   "outputs": [
    {
     "name": "stdout",
     "output_type": "stream",
     "text": [
      "Mean Squared Error:  0.15\n",
      "Accuracy: 0.85\n",
      "Specificity: 0.78\n",
      "Precision: 0.78\n",
      "Recall: 0.93\n",
      "False Positive Rate: 0.22\n",
      "F1 Score: 0.84\n"
     ]
    }
   ],
   "source": [
    "# Evaluate the model\n",
    "mse = mean_squared_error(y_test, y_pred)\n",
    "\n",
    "acc = accuracy_score(y_test, y_pred)\n",
    "\n",
    "\n",
    "print(f'Mean Squared Error: {mse: .2f}')\n",
    "print(f'Accuracy: {acc:.2f}')\n",
    "\n",
    "\n",
    "# Calculate confusion matrix\n",
    "conf_matrix = confusion_matrix(y_test, y_pred)\n",
    "\n",
    "# Extract values from the confusion matrix\n",
    "true_negative, false_positive, false_negative, true_positive = conf_matrix.ravel()\n",
    "\n",
    "# Calculate specificity\n",
    "specificity = true_negative / (true_negative + false_positive)\n",
    "print(f'Specificity: {specificity:.2f}')\n",
    "\n",
    "# Calculate precision\n",
    "precision = precision_score(y_test, y_pred)\n",
    "print(f'Precision: {precision:.2f}')\n",
    "\n",
    "# Calculate recall\n",
    "recall = recall_score(y_test, y_pred)\n",
    "print(f'Recall: {recall:.2f}')\n",
    "\n",
    "# Calculate false positive rate\n",
    "false_positive_rate = false_positive / (false_positive + true_negative)\n",
    "print(f'False Positive Rate: {false_positive_rate:.2f}')\n",
    "\n",
    "# Calculate F1 score\n",
    "f1 = f1_score(y_test, y_pred)\n",
    "print(f'F1 Score: {f1:.2f}')"
   ]
  },
  {
   "cell_type": "code",
   "execution_count": 8,
   "metadata": {},
   "outputs": [
    {
     "data": {
      "text/plain": [
       "['preprocessor.pkl']"
      ]
     },
     "execution_count": 8,
     "metadata": {},
     "output_type": "execute_result"
    }
   ],
   "source": [
    "from joblib import dump\n",
    "dump(model, 'model.pkl')\n",
    "dump(preprocessor, 'preprocessor.pkl')"
   ]
  }
 ],
 "metadata": {
  "kernelspec": {
   "display_name": "fastapi",
   "language": "python",
   "name": "python3"
  },
  "language_info": {
   "codemirror_mode": {
    "name": "ipython",
    "version": 3
   },
   "file_extension": ".py",
   "mimetype": "text/x-python",
   "name": "python",
   "nbconvert_exporter": "python",
   "pygments_lexer": "ipython3",
   "version": "3.12.2"
  }
 },
 "nbformat": 4,
 "nbformat_minor": 2
}
